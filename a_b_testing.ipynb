{
 "cells": [
  {
   "cell_type": "code",
   "execution_count": null,
   "metadata": {},
   "outputs": [],
   "source": []
  },
  {
   "cell_type": "code",
   "execution_count": null,
   "metadata": {},
   "outputs": [],
   "source": []
  },
  {
   "cell_type": "code",
   "execution_count": null,
   "metadata": {},
   "outputs": [],
   "source": []
  },
  {
   "cell_type": "markdown",
   "metadata": {},
   "source": [
    "### Significance Level\n",
    "If we assume that there is no underlying difference between A and B, how often will we observe the effect $d$ by chance. This is valid if the sample size is fixed before the experiment.\n",
    "\n",
    "In an experiment, repeated significance testing should be avoided as it increases the rate of false positive results.\n",
    "\n",
    "A good rule of thumb for the sample size is: $n=16\\frac{\\sigma^2}{\\delta^2}$\n",
    "\n",
    "A good metric to report on while an experiment is under way is the maximum effect $\\delta$ that can be observed with the current sample size:\n",
    "\n",
    "$\\delta=(t_{\\alpha/2}+t_{\\beta})\\sigma\\sqrt{2/n}$\n",
    "\n",
    "where $t$ is the t-statistic at the selected significance level $\\alpha/2$ and power $\\beta$.\n",
    "\n",
    "Sequential experiment design is a technique where checkpoints are pre-calculated for the experiment. In this case, the researcher is allowed to stop the experiment only at those checkpoints if the pre-calculated effect is observed.\n",
    "\n",
    "Bayesian experiment design allows the researcher to stop the experiment at any time."
   ]
  },
  {
   "cell_type": "markdown",
   "metadata": {},
   "source": [
    "For binomial distribution, the standard deviation is:\n",
    "\n",
    "$\\sigma=\\sqrt{\\frac{p*(1-p)}{n}}$\n",
    "\n",
    "The minimum sample size for confidence: $1-\\alpha$, power: $1-\\beta$ and minimum detectable effect $\\delta$ is:\n",
    "\n",
    "$n=\\frac{Z_{1-\\frac{\\alpha}{2}}\\sigma_1+Z_{1-\\beta}\\sigma_2}{\\delta^2}$\n",
    "\n",
    "The error at the selected confidence $1-\\alpha$ is:\n",
    "\n",
    "$e=Z_{1-\\frac{\\alpha}{2}}\\sigma$\n",
    "\n",
    "The confidence intervals can be calculated as: $[p-e; p+e]$."
   ]
  },
  {
   "cell_type": "code",
   "execution_count": null,
   "metadata": {},
   "outputs": [],
   "source": []
  },
  {
   "cell_type": "code",
   "execution_count": null,
   "metadata": {},
   "outputs": [],
   "source": []
  },
  {
   "cell_type": "code",
   "execution_count": null,
   "metadata": {},
   "outputs": [],
   "source": []
  }
 ],
 "metadata": {
  "kernelspec": {
   "display_name": "Python 3",
   "language": "python",
   "name": "python3"
  },
  "language_info": {
   "codemirror_mode": {
    "name": "ipython",
    "version": 3
   },
   "file_extension": ".py",
   "mimetype": "text/x-python",
   "name": "python",
   "nbconvert_exporter": "python",
   "pygments_lexer": "ipython3",
   "version": "3.7.6"
  },
  "widgets": {
   "application/vnd.jupyter.widget-state+json": {
    "state": {},
    "version_major": 2,
    "version_minor": 0
   }
  }
 },
 "nbformat": 4,
 "nbformat_minor": 4
}
