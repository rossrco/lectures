{
 "cells": [
  {
   "cell_type": "markdown",
   "metadata": {},
   "source": [
    "For binomial distribution, the standard deviation is:\n",
    "\n",
    "$\\sigma=\\sqrt{\\frac{p*(1-p)}{n}}$"
   ]
  },
  {
   "cell_type": "markdown",
   "metadata": {},
   "source": [
    "The minimum sample size for confidence: $1-\\alpha$, power: $1-\\beta$ and minimum detectable effect $d^2$ is:\n",
    "\n",
    "$n=\\frac{Z_{1-\\frac{\\alpha}{2}}\\sigma_1+Z_{1-\\beta}\\sigma_2}{d^2}$"
   ]
  },
  {
   "cell_type": "code",
   "execution_count": null,
   "metadata": {},
   "outputs": [],
   "source": []
  }
 ],
 "metadata": {
  "kernelspec": {
   "display_name": "Python 3",
   "language": "python",
   "name": "python3"
  },
  "language_info": {
   "codemirror_mode": {
    "name": "ipython",
    "version": 3
   },
   "file_extension": ".py",
   "mimetype": "text/x-python",
   "name": "python",
   "nbconvert_exporter": "python",
   "pygments_lexer": "ipython3",
   "version": "3.7.6"
  },
  "widgets": {
   "application/vnd.jupyter.widget-state+json": {
    "state": {},
    "version_major": 2,
    "version_minor": 0
   }
  }
 },
 "nbformat": 4,
 "nbformat_minor": 4
}
